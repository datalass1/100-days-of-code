{
 "cells": [
  {
   "cell_type": "markdown",
   "metadata": {},
   "source": [
    "# Day 1 Visualising Imagery"
   ]
  },
  {
   "cell_type": "markdown",
   "metadata": {},
   "source": [
    "Install gdal:\n",
    "```\n",
    "conda install -c conda-forge gdal\n",
    "```\n",
    "Then run in jupyter notebook\n",
    "```\n",
    "from osgeo import gdal\n",
    "```\n",
    "Error received: libiconv.so.2: cannot open shared object file: No such file or directory \n",
    "\n",
    "So install the dependency:\n",
    "```\n",
    "! conda install -c conda-forge libiconv -y\n",
    "```\n",
    "source: https://stackoverflow.com/questions/41775441/chef-installing-uwsgi-libiconv-so-2-no-such-file-or-directory\n",
    "\n",
    "Useful tutorial to get started with gdalinfo and translate for sentinel-2 imagery: https://gdal.org/frmt_sentinel2.html\n",
    "\n",
    "Robert Simmons on YouTube: https://www.youtube.com/watch?v=N_dmiQI1s24 also check out his Medium blogs"
   ]
  },
  {
   "cell_type": "code",
   "execution_count": 121,
   "metadata": {},
   "outputs": [],
   "source": [
    "from osgeo import gdal\n",
    "from pathlib import Path\n",
    "import glob\n",
    "import rasterio\n",
    "import matplotlib.pyplot as plt"
   ]
  },
  {
   "cell_type": "code",
   "execution_count": 20,
   "metadata": {},
   "outputs": [],
   "source": [
    "datapath = Path('../data/')#; datapath.exists()"
   ]
  },
  {
   "cell_type": "markdown",
   "metadata": {},
   "source": [
    "1. Find the Sentinel-2 1C metadata for 10m resolution and corresponding crs\n",
    "2. Convet the 10m JP2's into a multiband tif\n",
    "3. Visualise"
   ]
  },
  {
   "cell_type": "code",
   "execution_count": 74,
   "metadata": {},
   "outputs": [],
   "source": [
    "for i in datapath.rglob('*/*1C.xml'):\n",
    "    meta_path = i"
   ]
  },
  {
   "cell_type": "code",
   "execution_count": 80,
   "metadata": {
    "scrolled": false
   },
   "outputs": [],
   "source": [
    "# ! gdalinfo {meta_path}\n",
    "! gdalinfo SENTINEL2_L1C:{meta_path}:10m:EPSG_32738"
   ]
  },
  {
   "cell_type": "code",
   "execution_count": 111,
   "metadata": {},
   "outputs": [],
   "source": [
    "! gdal_translate -of GTiff {meta_path.parent}/GRANULE/L1C_T38KLV_A018893_20190203T071204/IMG_DATA/T38KLV_20190203T071201_B04.jp2 {datapath}/B04.tif\n",
    "! gdal_translate -of GTiff {meta_path.parent}/GRANULE/L1C_T38KLV_A018893_20190203T071204/IMG_DATA/T38KLV_20190203T071201_B03.jp2 {datapath}/B03.tif\n",
    "! gdal_translate -of GTiff {meta_path.parent}/GRANULE/L1C_T38KLV_A018893_20190203T071204/IMG_DATA/T38KLV_20190203T071201_B02.jp2 {datapath}/B02.tif\n",
    "# ! gdal_translate -of GTiff {meta_path.parent}/GRANULE/L1C_T38KLV_A018893_20190203T071204/IMG_DATA/T38KLV_20190203T071201_B08.jp2 {datapath}/B08.tif"
   ]
  },
  {
   "cell_type": "code",
   "execution_count": 110,
   "metadata": {},
   "outputs": [
    {
     "name": "stdout",
     "output_type": "stream",
     "text": [
      "0...10...20...30...40...50...60...70...80...90...100 - done.\n"
     ]
    }
   ],
   "source": [
    "! gdal_merge.py -o {datapath}/madagascar.tif -separate {datapath}/*.tif -co PHOTOMETRIC=RGB -co COMPRESS=DEFLATE"
   ]
  },
  {
   "cell_type": "code",
   "execution_count": 118,
   "metadata": {},
   "outputs": [
    {
     "name": "stdout",
     "output_type": "stream",
     "text": [
      "../data/B02.tif\n",
      "../data/B04.tif\n",
      "../data/S2A_MSIL2A_20190203T071201_N0211_R020_T38KLV_20190203T103815.zip\n",
      "../data/S2A_MSIL1C_20190203T071201_N0207_R020_T38KLV_20190203T095553.SAFE\n",
      "../data/S2A_MSIL1C_20190203T071201_N0207_R020_T38KLV_20190203T095553.zip\n",
      "../data/B03.tif\n",
      "../data/S2A_MSIL2A_20190203T071201_N0211_R020_T38KLV_20190203T103815.SAFE\n",
      "../data/aoi_madagascar.geojson\n",
      "../data/madagascar.tif\n"
     ]
    }
   ],
   "source": [
    "for i in datapath.glob('*'):\n",
    "    print(i)"
   ]
  },
  {
   "cell_type": "code",
   "execution_count": 122,
   "metadata": {},
   "outputs": [],
   "source": [
    "image_file = datapath.joinpath('madagascar.tif')#; image_file.exists() \n",
    "image = rasterio.open(image_file)"
   ]
  },
  {
   "cell_type": "markdown",
   "metadata": {},
   "source": [
    "https://medium.com/analytics-vidhya/satellite-imagery-analysis-with-python-3f8ccf8a7c32"
   ]
  },
  {
   "cell_type": "code",
   "execution_count": null,
   "metadata": {},
   "outputs": [],
   "source": []
  }
 ],
 "metadata": {
  "kernelspec": {
   "display_name": "Python 3",
   "language": "python",
   "name": "python3"
  },
  "language_info": {
   "codemirror_mode": {
    "name": "ipython",
    "version": 3
   },
   "file_extension": ".py",
   "mimetype": "text/x-python",
   "name": "python",
   "nbconvert_exporter": "python",
   "pygments_lexer": "ipython3",
   "version": "3.7.3"
  }
 },
 "nbformat": 4,
 "nbformat_minor": 2
}
