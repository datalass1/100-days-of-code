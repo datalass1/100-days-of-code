{
 "cells": [
  {
   "cell_type": "markdown",
   "metadata": {},
   "source": [
    "# Day 0: Get the Sentinel-2 imagery"
   ]
  },
  {
   "cell_type": "markdown",
   "metadata": {},
   "source": [
    "I've chosen **SW Madagascar** for 2 reasons:\n",
    "- I've been there and studied this area\n",
    "- Amazing marine features to observe: coral reefs and mangroves. The Toliara reef system is made up of barrier and fringing reefs, shallow lagoons, and abyssal slopes (https://madagascar.wcs.org/wild-places/toliara-seascape.aspx)"
   ]
  },
  {
   "cell_type": "markdown",
   "metadata": {},
   "source": [
    "**Libraries to get familiar with:**\n",
    "- Sentinelsat: https://sentinelsat.readthedocs.io/en/stable/api.html\n",
    "- Pathlib: Python 3.4 introduced a new standard library for dealing with files and paths called pathlib https://pbpython.com/pathlib-intro.html\n",
    "\n",
    "Install these into conda virtual env:\n",
    "```\n",
    "$ conda install -c anaconda pandas \n",
    "$ pip install sentinelsat\n",
    "```"
   ]
  },
  {
   "cell_type": "code",
   "execution_count": 1,
   "metadata": {},
   "outputs": [],
   "source": [
    "from sentinelsat import SentinelAPI, read_geojson, geojson_to_wkt\n",
    "import os\n",
    "from pathlib import Path"
   ]
  },
  {
   "cell_type": "code",
   "execution_count": 2,
   "metadata": {},
   "outputs": [],
   "source": [
    "username = os.environ.get('COPERNICUS_USERNAME')\n",
    "password = os.environ.get('COPERNICUS_PASSWORD')\n",
    "datapath = Path('../data/aoi_madagascar.geojson')#; datapath.exists()\n",
    "api = SentinelAPI(username, password, 'https://scihub.copernicus.eu/dhus')"
   ]
  },
  {
   "cell_type": "code",
   "execution_count": 3,
   "metadata": {},
   "outputs": [
    {
     "data": {
      "text/plain": [
       "'POLYGON((43.5377 -23.2881,43.6608 -23.2898,43.7762 -23.4558,43.5935 -23.4488,43.5377 -23.2881))'"
      ]
     },
     "execution_count": 3,
     "metadata": {},
     "output_type": "execute_result"
    }
   ],
   "source": [
    "footprint = geojson_to_wkt(read_geojson(datapath)); footprint"
   ]
  },
  {
   "cell_type": "code",
   "execution_count": 4,
   "metadata": {},
   "outputs": [],
   "source": [
    "products = api.query(footprint,\n",
    "                     date=('20190203', '20190205'),\n",
    "                     platformname='Sentinel-2',\n",
    "                     cloudcoverpercentage=(0, 5))"
   ]
  },
  {
   "cell_type": "code",
   "execution_count": 5,
   "metadata": {},
   "outputs": [
    {
     "name": "stdout",
     "output_type": "stream",
     "text": [
      "Number of images in aoi:  2\n"
     ]
    }
   ],
   "source": [
    "products_df = api.to_dataframe(products); print('Number of images in aoi: ', len(products_df))"
   ]
  },
  {
   "cell_type": "code",
   "execution_count": 6,
   "metadata": {},
   "outputs": [],
   "source": [
    "products_df_sorted = products_df.sort_values(['cloudcoverpercentage', 'ingestiondate'], ascending=[True, True])\n",
    "products_df_sorted = products_df_sorted.head()#; products_df_sorted"
   ]
  },
  {
   "cell_type": "code",
   "execution_count": 7,
   "metadata": {},
   "outputs": [
    {
     "name": "stderr",
     "output_type": "stream",
     "text": [
      "Downloading: 100%|██████████| 815M/815M [20:34<00:00, 1.48MB/s] \n",
      "MD5 checksumming: 100%|██████████| 815M/815M [00:01<00:00, 461MB/s] \n",
      "Downloading: 100%|██████████| 569M/569M [12:48<00:00, 741kB/s]  \n",
      "MD5 checksumming: 100%|██████████| 569M/569M [00:01<00:00, 461MB/s] \n"
     ]
    },
    {
     "data": {
      "text/plain": [
       "(OrderedDict([('6d623529-2fec-4ee3-9ce0-2f936bf4bdc0',\n",
       "               {'id': '6d623529-2fec-4ee3-9ce0-2f936bf4bdc0',\n",
       "                'title': 'S2A_MSIL2A_20190203T071201_N0211_R020_T38KLV_20190203T103815',\n",
       "                'size': 814701274,\n",
       "                'md5': '5D329557CBA8D538298B4A3DC7BA8E51',\n",
       "                'date': datetime.datetime(2019, 2, 3, 7, 12, 1, 24000),\n",
       "                'footprint': 'POLYGON((43.21399831789131 -23.587580672878723,43.21565255005549 -23.58125412859165,43.254243911267146 -23.433564011941527,43.2927555817908 -23.285913850311807,43.33118887772614 -23.138260997210168,43.36956347573773 -22.990661969158506,43.4079330090411 -22.843134187115123,43.44640278803536 -22.695664335499607,43.47159486152814 -22.598374267891806,44.122404282930994 -22.604096690557487,44.115937334974255 -23.5958387229304,43.21399831789131 -23.587580672878723))',\n",
       "                'url': \"https://scihub.copernicus.eu/dhus/odata/v1/Products('6d623529-2fec-4ee3-9ce0-2f936bf4bdc0')/$value\",\n",
       "                'Online': True,\n",
       "                'Creation Date': datetime.datetime(2019, 2, 3, 13, 57, 5, 148000),\n",
       "                'Ingestion Date': datetime.datetime(2019, 2, 3, 13, 38, 59, 814000),\n",
       "                'path': '../data/S2A_MSIL2A_20190203T071201_N0211_R020_T38KLV_20190203T103815.zip',\n",
       "                'downloaded_bytes': 814701274}),\n",
       "              ('40580ed2-50e3-479e-aea6-daeb7088f999',\n",
       "               {'id': '40580ed2-50e3-479e-aea6-daeb7088f999',\n",
       "                'title': 'S2A_MSIL1C_20190203T071201_N0207_R020_T38KLV_20190203T095553',\n",
       "                'size': 569443589,\n",
       "                'md5': 'BF6EEFD51A343091BC093EC8188DD930',\n",
       "                'date': datetime.datetime(2019, 2, 3, 7, 12, 1, 24000),\n",
       "                'footprint': 'POLYGON((43.21399831789131 -23.587580672878723,43.21565255005549 -23.58125412859165,43.254243911267146 -23.433564011941527,43.2927555817908 -23.285913850311807,43.33118887772614 -23.138260997210168,43.36956347573773 -22.990661969158506,43.4079330090411 -22.843134187115123,43.44640278803536 -22.695664335499607,43.47159486152814 -22.598374267891806,44.122404282930994 -22.604096690557487,44.115937334974255 -23.5958387229304,43.21399831789131 -23.587580672878723))',\n",
       "                'url': \"https://scihub.copernicus.eu/dhus/odata/v1/Products('40580ed2-50e3-479e-aea6-daeb7088f999')/$value\",\n",
       "                'Online': True,\n",
       "                'Creation Date': datetime.datetime(2019, 2, 3, 12, 10, 4, 413000),\n",
       "                'Ingestion Date': datetime.datetime(2019, 2, 3, 11, 46, 9, 594000),\n",
       "                'path': '../data/S2A_MSIL1C_20190203T071201_N0207_R020_T38KLV_20190203T095553.zip',\n",
       "                'downloaded_bytes': 569443589})]),\n",
       " OrderedDict(),\n",
       " set())"
      ]
     },
     "execution_count": 7,
     "metadata": {},
     "output_type": "execute_result"
    }
   ],
   "source": [
    "api.download_all(products, directory_path=datapath.parent)"
   ]
  },
  {
   "cell_type": "markdown",
   "metadata": {},
   "source": [
    "### Final comments\n",
    "\n",
    "Unzipped the downloaded directories in command line and viewed the TCI file in QGIS.\n",
    "\n",
    "Tomorrow: Visualisation of imagery. "
   ]
  }
 ],
 "metadata": {
  "kernelspec": {
   "display_name": "Python 3",
   "language": "python",
   "name": "python3"
  },
  "language_info": {
   "codemirror_mode": {
    "name": "ipython",
    "version": 3
   },
   "file_extension": ".py",
   "mimetype": "text/x-python",
   "name": "python",
   "nbconvert_exporter": "python",
   "pygments_lexer": "ipython3",
   "version": "3.7.3"
  }
 },
 "nbformat": 4,
 "nbformat_minor": 2
}
