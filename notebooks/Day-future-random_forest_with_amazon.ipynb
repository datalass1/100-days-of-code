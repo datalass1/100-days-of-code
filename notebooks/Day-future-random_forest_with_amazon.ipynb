{
 "cells": [
  {
   "cell_type": "markdown",
   "metadata": {},
   "source": [
    "# Day ? Random Forest for Amazon River classification"
   ]
  },
  {
   "cell_type": "code",
   "execution_count": 14,
   "metadata": {},
   "outputs": [],
   "source": [
    "from pathlib import Path\n",
    "import os\n",
    "from sentinelsat import SentinelAPI\n",
    "from osgeo import gdal"
   ]
  },
  {
   "cell_type": "code",
   "execution_count": 15,
   "metadata": {},
   "outputs": [],
   "source": [
    "path = Path('../data/rivers_amazon_data/random_forest_test/')"
   ]
  },
  {
   "cell_type": "code",
   "execution_count": 21,
   "metadata": {},
   "outputs": [],
   "source": [
    "# ! ls {path}"
   ]
  },
  {
   "cell_type": "code",
   "execution_count": 19,
   "metadata": {},
   "outputs": [],
   "source": [
    "# username = os.environ.get('COPERNICUS_USERNAME')\n",
    "# password = os.environ.get('COPERNICUS_PASSWORD')\n",
    "# api = SentinelAPI(user=username, password=password)\n",
    "# api.download('dcab558f-9b8d-4935-99d5-881144e17348', path)\n",
    "# product_id = (str(list(path.glob('*'))).split('/')[-1])[:-7];\n",
    "# ! unzip {path}/{product_id + '.zip'} -d {path}\n",
    "\n",
    "# parts = [product_id + '.SAFE', \n",
    "#         'GRANULE',\n",
    "#         'L1C_T21MYS_A016080_20180721T140053',\n",
    "#         'IMG_DATA']\n",
    "\n",
    "# for i in [2,3,4,8]:\n",
    "#     image_band = 'T21MYS_20180721T140051_B0{}.jp2'.format(i)\n",
    "#     filepath = str(path.joinpath(*parts).joinpath(image_band))\n",
    "#     out_location = str(path) + ('/ndwi_B0{}'.format(i)) + '.tif'\n",
    "#     src = gdal.Open(filepath)\n",
    "#     gdal.Translate(out_location, src)"
   ]
  },
  {
   "cell_type": "code",
   "execution_count": 18,
   "metadata": {},
   "outputs": [],
   "source": [
    "band1_fn = str(path.joinpath('ndwi_B04.tif')) #Red\n",
    "band2_fn = str(path.joinpath('ndwi_B03.tif')) #Green\n",
    "band3_fn = str(path.joinpath('ndwi_B02.tif')) #Blue\n",
    "band4_fn = str(path.joinpath('ndwi_B08.tif')) #NIR\n",
    "\n",
    "in_ds = gdal.Open(band1_fn)\n",
    "in_band = in_ds.GetRasterBand(1)\n",
    "gtiff_driver = gdal.GetDriverByName('GTiff')\n",
    "out_path = str(path) + '/10m_4band_day18.tif'\n",
    "out_ds = gtiff_driver.Create(out_path, in_band.XSize,\n",
    "                            in_band.YSize, 4, in_band.DataType)\n",
    "out_ds.SetProjection(in_ds.GetProjection())\n",
    "out_ds.SetGeoTransform(in_ds.GetGeoTransform())\n",
    "\n",
    "in_data = in_band.ReadAsArray()\n",
    "out_band = out_ds.GetRasterBand(1)\n",
    "out_band.WriteArray(in_data)\n",
    "\n",
    "out_ds.GetRasterBand(2).WriteArray(gdal.Open(band2_fn).ReadAsArray())\n",
    "out_ds.GetRasterBand(3).WriteArray(gdal.Open(band3_fn).ReadAsArray())\n",
    "out_ds.GetRasterBand(4).WriteArray(gdal.Open(band4_fn).ReadAsArray())\n",
    "\n",
    "out_ds.FlushCache()\n",
    "for i in range(1,5):\n",
    "    out_ds.GetRasterBand(i).ComputeStatistics(False)\n",
    "out_ds.BuildOverviews('average', [2,3,8,16,32])\n",
    "\n",
    "del out_ds\n",
    "\n",
    "#source: Geoprocessing with Python by Chris Garrard"
   ]
  },
  {
   "cell_type": "markdown",
   "metadata": {},
   "source": [
    "### Getting training data"
   ]
  },
  {
   "cell_type": "markdown",
   "metadata": {},
   "source": [
    "OSM data fro Jochen and Christoph on [openstreetmapdata](http://openstreetmapdata.com/data) is low resolution and does not cover smaller rivers. "
   ]
  },
  {
   "cell_type": "code",
   "execution_count": null,
   "metadata": {},
   "outputs": [],
   "source": []
  }
 ],
 "metadata": {
  "kernelspec": {
   "display_name": "Python 3",
   "language": "python",
   "name": "python3"
  },
  "language_info": {
   "codemirror_mode": {
    "name": "ipython",
    "version": 3
   },
   "file_extension": ".py",
   "mimetype": "text/x-python",
   "name": "python",
   "nbconvert_exporter": "python",
   "pygments_lexer": "ipython3",
   "version": "3.7.3"
  }
 },
 "nbformat": 4,
 "nbformat_minor": 2
}
