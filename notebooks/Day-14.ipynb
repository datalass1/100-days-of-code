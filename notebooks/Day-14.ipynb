{
 "cells": [
  {
   "cell_type": "markdown",
   "metadata": {},
   "source": [
    "# Day 14 Processing a raster by block"
   ]
  },
  {
   "cell_type": "markdown",
   "metadata": {},
   "source": [
    "As read and coded from chpt 9 in Geoprocessing with Python by Chris Garrard "
   ]
  },
  {
   "cell_type": "markdown",
   "metadata": {},
   "source": [
    "0. Libraries required"
   ]
  },
  {
   "cell_type": "code",
   "execution_count": 1,
   "metadata": {},
   "outputs": [],
   "source": [
    "from pathlib import Path\n",
    "import os\n",
    "from osgeo import gdal\n",
    "import numpy as np\n",
    "from sentinelsat import SentinelAPI"
   ]
  },
  {
   "cell_type": "markdown",
   "metadata": {},
   "source": [
    "1. Set up all paths required in script"
   ]
  },
  {
   "cell_type": "code",
   "execution_count": 2,
   "metadata": {},
   "outputs": [],
   "source": [
    "path = Path('../data/rivers_amazon_data/ndwi_test/')"
   ]
  },
  {
   "cell_type": "markdown",
   "metadata": {},
   "source": [
    "2. Download the Sentinel image, extract bands as tifs and store seperately.\n",
    "\n",
    "The uuid is taken from https://scihub.copernicus.eu/dhus/#/home"
   ]
  },
  {
   "cell_type": "code",
   "execution_count": null,
   "metadata": {},
   "outputs": [],
   "source": [
    "# username = os.environ.get('COPERNICUS_USERNAME')\n",
    "# password = os.environ.get('COPERNICUS_PASSWORD')\n",
    "# api = SentinelAPI(user=username, password=password)\n",
    "# api.download('dcab558f-9b8d-4935-99d5-881144e17348', path)\n",
    "# product_id = (str(list(path.glob('*'))).split('/')[-1])[:-7];\n",
    "# ! unzip {path}/{product_id + '.zip'} -d {path}\n",
    "\n",
    "# parts = [product_id + '.SAFE', \n",
    "#         'GRANULE',\n",
    "#         'L1C_T21MYS_A016080_20180721T140053',\n",
    "#         'IMG_DATA']\n",
    "\n",
    "# for i in [2,3,4,8]:\n",
    "#     image_band = 'T21MYS_20180721T140051_B0{}.jp2'.format(i)\n",
    "#     filepath = str(path.joinpath(*parts).joinpath(image_band))\n",
    "#     out_location = str(path) + ('/ndwi_B0{}'.format(i)) + '.tif'\n",
    "#     src = gdal.Open(filepath)\n",
    "#     gdal.Translate(out_location, src)"
   ]
  },
  {
   "cell_type": "markdown",
   "metadata": {},
   "source": [
    "3. Create a False color image.\n",
    "\n",
    "Now that I have the 4 10m bands for S2 imagery stack them"
   ]
  },
  {
   "cell_type": "code",
   "execution_count": 3,
   "metadata": {},
   "outputs": [],
   "source": [
    "band1_fn = str(path.joinpath('ndwi_B08.tif')) #NIR\n",
    "band2_fn = str(path.joinpath('ndwi_B02.tif')) #Green\n",
    "band3_fn = str(path.joinpath('ndwi_B03.tif')) #Blue\n",
    "\n",
    "in_ds = gdal.Open(band1_fn)\n",
    "in_band = in_ds.GetRasterBand(1)\n",
    "gtiff_driver = gdal.GetDriverByName('GTiff')\n",
    "out_path = str(path) + '/false_color.tif'\n",
    "out_ds = gtiff_driver.Create(out_path, in_band.XSize,\n",
    "                            in_band.YSize, 3, in_band.DataType)\n",
    "out_ds.SetProjection(in_ds.GetProjection())\n",
    "out_ds.SetGeoTransform(in_ds.GetGeoTransform())\n",
    "\n",
    "in_data = in_band.ReadAsArray()\n",
    "out_band = out_ds.GetRasterBand(1)\n",
    "out_band.WriteArray(in_data)\n",
    "\n",
    "out_ds.GetRasterBand(2).WriteArray(gdal.Open(band2_fn).ReadAsArray())\n",
    "out_ds.GetRasterBand(3).WriteArray(gdal.Open(band3_fn).ReadAsArray())\n",
    "\n",
    "out_ds.FlushCache()\n",
    "for i in range(1,4):\n",
    "    out_ds.GetRasterBand(i).ComputeStatistics(False)\n",
    "out_ds.BuildOverviews('average', [2,3,8,16,32])\n",
    "\n",
    "del out_ds"
   ]
  },
  {
   "cell_type": "code",
   "execution_count": null,
   "metadata": {},
   "outputs": [],
   "source": []
  },
  {
   "cell_type": "code",
   "execution_count": null,
   "metadata": {},
   "outputs": [],
   "source": []
  },
  {
   "cell_type": "code",
   "execution_count": null,
   "metadata": {
    "scrolled": true
   },
   "outputs": [],
   "source": []
  },
  {
   "cell_type": "code",
   "execution_count": null,
   "metadata": {},
   "outputs": [],
   "source": []
  },
  {
   "cell_type": "code",
   "execution_count": null,
   "metadata": {},
   "outputs": [],
   "source": []
  },
  {
   "cell_type": "markdown",
   "metadata": {},
   "source": [
    "NDWI, defined as (GREEN-NIR)/(GREEN+NIR)"
   ]
  },
  {
   "cell_type": "markdown",
   "metadata": {},
   "source": [
    "Collect information about the image dataset and assign as variables"
   ]
  },
  {
   "cell_type": "code",
   "execution_count": null,
   "metadata": {},
   "outputs": [],
   "source": [
    "in_ds = gdal.Open(str(input_im))"
   ]
  },
  {
   "cell_type": "code",
   "execution_count": null,
   "metadata": {},
   "outputs": [],
   "source": [
    "in_band = in_ds.GetRasterBand(1)\n",
    "xsize = in_band.XSize\n",
    "ysize = in_band.YSize\n",
    "block_xsize, block_ysize = in_band.GetBlockSize()\n",
    "nodata = in_band.GetNoDataValue()"
   ]
  },
  {
   "cell_type": "code",
   "execution_count": null,
   "metadata": {},
   "outputs": [],
   "source": [
    "print('Image size is', xsize, 'by', ysize, '\\n', \n",
    "      'Block size is', block_xsize, 'by', block_ysize)"
   ]
  },
  {
   "cell_type": "markdown",
   "metadata": {},
   "source": [
    "Create an output dataset as an empty dataframe"
   ]
  },
  {
   "cell_type": "code",
   "execution_count": null,
   "metadata": {},
   "outputs": [],
   "source": [
    "gtiff_driver = gdal.GetDriverByName('GTiff')\n",
    "out_ds = gtiff_driver.Create('ndwi_test.tif', xsize, ysize,\n",
    "                                 1, in_band.DataType)"
   ]
  },
  {
   "cell_type": "code",
   "execution_count": null,
   "metadata": {},
   "outputs": [],
   "source": [
    "out_ds.SetProjection(in_ds.GetProjection())\n",
    "out_ds.SetGeoTransform(in_ds.GetGeoTransform())\n",
    "out_band = out_ds.GetRasterBand(1)"
   ]
  },
  {
   "cell_type": "code",
   "execution_count": null,
   "metadata": {},
   "outputs": [],
   "source": [
    "! unzip {datapath}/{product_df.iloc[0][0] + '.zip'} -d {datapath}"
   ]
  }
 ],
 "metadata": {
  "kernelspec": {
   "display_name": "Python 3",
   "language": "python",
   "name": "python3"
  },
  "language_info": {
   "codemirror_mode": {
    "name": "ipython",
    "version": 3
   },
   "file_extension": ".py",
   "mimetype": "text/x-python",
   "name": "python",
   "nbconvert_exporter": "python",
   "pygments_lexer": "ipython3",
   "version": "3.7.3"
  }
 },
 "nbformat": 4,
 "nbformat_minor": 2
}
