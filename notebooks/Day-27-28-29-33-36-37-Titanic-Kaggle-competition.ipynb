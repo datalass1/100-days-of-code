{
 "cells": [
  {
   "cell_type": "markdown",
   "metadata": {},
   "source": [
    "# Titanic Kaggle Competition"
   ]
  },
  {
   "cell_type": "markdown",
   "metadata": {},
   "source": [
    "Get the [data for the Kaggle Titanic Competition](https://www.kaggle.com/c/titanic/data).\n",
    "\n",
    "Some useful tutorials on Kaggle and blogs:\n",
    "- [Feature undersatdning from plots](https://www.kaggle.com/saisivasriram/titanic-feature-understanding-from-plots)\n",
    "- [Detailed ensemble learning](https://www.kaggle.com/littleraj30/detailed-ensemble-v-s-other-model-on-titanic)\n",
    "- [How to score in the top 9%](https://medium.com/i-like-big-data-and-i-cannot-lie/how-i-scored-in-the-top-9-of-kaggles-titanic-machine-learning-challenge-243b5f45c8e9)\n",
    "- [For learning Logistic Regression](https://www.kaggle.com/mnassrib/titanic-logistic-regression-with-python)\n",
    "- [A great simple well-explained blog post on logistic regression](https://mashimo.wordpress.com/2018/03/31/logistic-regression-using-sklearn/)\n",
    "\n",
    "Import libraries"
   ]
  },
  {
   "cell_type": "code",
   "execution_count": 1,
   "metadata": {},
   "outputs": [],
   "source": [
    "# systems\n",
    "from pathlib import Path\n",
    "# data handling\n",
    "import pandas as pd\n",
    "import numpy as np\n",
    "# visualisation\n",
    "import matplotlib.pyplot as plt\n",
    "import seaborn as sns\n",
    "# machine learning\n",
    "from sklearn.linear_model import LogisticRegression\n",
    "from sklearn.preprocessing import StandardScaler\n",
    "from sklearn.metrics import confusion_matrix\n",
    "from sklearn.ensemble import RandomForestRegressor\n",
    "from sklearn.metrics import roc_auc_score\n",
    "from sklearn.model_selection import train_test_split"
   ]
  },
  {
   "cell_type": "code",
   "execution_count": 2,
   "metadata": {},
   "outputs": [
    {
     "data": {
      "text/plain": [
       "[PosixPath('../data/titanic/train.csv'),\n",
       " PosixPath('../data/titanic/gender_submission.csv'),\n",
       " PosixPath('../data/titanic/test.csv')]"
      ]
     },
     "execution_count": 2,
     "metadata": {},
     "output_type": "execute_result"
    }
   ],
   "source": [
    "path = Path('../data/titanic')\n",
    "list(path.glob('*'))"
   ]
  },
  {
   "cell_type": "markdown",
   "metadata": {},
   "source": [
    "### 1. Data Exploration"
   ]
  },
  {
   "cell_type": "code",
   "execution_count": 3,
   "metadata": {},
   "outputs": [
    {
     "data": {
      "text/html": [
       "<div>\n",
       "<style scoped>\n",
       "    .dataframe tbody tr th:only-of-type {\n",
       "        vertical-align: middle;\n",
       "    }\n",
       "\n",
       "    .dataframe tbody tr th {\n",
       "        vertical-align: top;\n",
       "    }\n",
       "\n",
       "    .dataframe thead th {\n",
       "        text-align: right;\n",
       "    }\n",
       "</style>\n",
       "<table border=\"1\" class=\"dataframe\">\n",
       "  <thead>\n",
       "    <tr style=\"text-align: right;\">\n",
       "      <th></th>\n",
       "      <th>PassengerId</th>\n",
       "      <th>Survived</th>\n",
       "      <th>Pclass</th>\n",
       "      <th>Name</th>\n",
       "      <th>Sex</th>\n",
       "      <th>Age</th>\n",
       "      <th>SibSp</th>\n",
       "      <th>Parch</th>\n",
       "      <th>Ticket</th>\n",
       "      <th>Fare</th>\n",
       "      <th>Cabin</th>\n",
       "      <th>Embarked</th>\n",
       "    </tr>\n",
       "  </thead>\n",
       "  <tbody>\n",
       "    <tr>\n",
       "      <th>0</th>\n",
       "      <td>1</td>\n",
       "      <td>0</td>\n",
       "      <td>3</td>\n",
       "      <td>Braund, Mr. Owen Harris</td>\n",
       "      <td>male</td>\n",
       "      <td>22.0</td>\n",
       "      <td>1</td>\n",
       "      <td>0</td>\n",
       "      <td>A/5 21171</td>\n",
       "      <td>7.2500</td>\n",
       "      <td>NaN</td>\n",
       "      <td>S</td>\n",
       "    </tr>\n",
       "    <tr>\n",
       "      <th>1</th>\n",
       "      <td>2</td>\n",
       "      <td>1</td>\n",
       "      <td>1</td>\n",
       "      <td>Cumings, Mrs. John Bradley (Florence Briggs Th...</td>\n",
       "      <td>female</td>\n",
       "      <td>38.0</td>\n",
       "      <td>1</td>\n",
       "      <td>0</td>\n",
       "      <td>PC 17599</td>\n",
       "      <td>71.2833</td>\n",
       "      <td>C85</td>\n",
       "      <td>C</td>\n",
       "    </tr>\n",
       "    <tr>\n",
       "      <th>2</th>\n",
       "      <td>3</td>\n",
       "      <td>1</td>\n",
       "      <td>3</td>\n",
       "      <td>Heikkinen, Miss. Laina</td>\n",
       "      <td>female</td>\n",
       "      <td>26.0</td>\n",
       "      <td>0</td>\n",
       "      <td>0</td>\n",
       "      <td>STON/O2. 3101282</td>\n",
       "      <td>7.9250</td>\n",
       "      <td>NaN</td>\n",
       "      <td>S</td>\n",
       "    </tr>\n",
       "    <tr>\n",
       "      <th>3</th>\n",
       "      <td>4</td>\n",
       "      <td>1</td>\n",
       "      <td>1</td>\n",
       "      <td>Futrelle, Mrs. Jacques Heath (Lily May Peel)</td>\n",
       "      <td>female</td>\n",
       "      <td>35.0</td>\n",
       "      <td>1</td>\n",
       "      <td>0</td>\n",
       "      <td>113803</td>\n",
       "      <td>53.1000</td>\n",
       "      <td>C123</td>\n",
       "      <td>S</td>\n",
       "    </tr>\n",
       "    <tr>\n",
       "      <th>4</th>\n",
       "      <td>5</td>\n",
       "      <td>0</td>\n",
       "      <td>3</td>\n",
       "      <td>Allen, Mr. William Henry</td>\n",
       "      <td>male</td>\n",
       "      <td>35.0</td>\n",
       "      <td>0</td>\n",
       "      <td>0</td>\n",
       "      <td>373450</td>\n",
       "      <td>8.0500</td>\n",
       "      <td>NaN</td>\n",
       "      <td>S</td>\n",
       "    </tr>\n",
       "  </tbody>\n",
       "</table>\n",
       "</div>"
      ],
      "text/plain": [
       "   PassengerId  Survived  Pclass  \\\n",
       "0            1         0       3   \n",
       "1            2         1       1   \n",
       "2            3         1       3   \n",
       "3            4         1       1   \n",
       "4            5         0       3   \n",
       "\n",
       "                                                Name     Sex   Age  SibSp  \\\n",
       "0                            Braund, Mr. Owen Harris    male  22.0      1   \n",
       "1  Cumings, Mrs. John Bradley (Florence Briggs Th...  female  38.0      1   \n",
       "2                             Heikkinen, Miss. Laina  female  26.0      0   \n",
       "3       Futrelle, Mrs. Jacques Heath (Lily May Peel)  female  35.0      1   \n",
       "4                           Allen, Mr. William Henry    male  35.0      0   \n",
       "\n",
       "   Parch            Ticket     Fare Cabin Embarked  \n",
       "0      0         A/5 21171   7.2500   NaN        S  \n",
       "1      0          PC 17599  71.2833   C85        C  \n",
       "2      0  STON/O2. 3101282   7.9250   NaN        S  \n",
       "3      0            113803  53.1000  C123        S  \n",
       "4      0            373450   8.0500   NaN        S  "
      ]
     },
     "execution_count": 3,
     "metadata": {},
     "output_type": "execute_result"
    }
   ],
   "source": [
    "train_path = path.joinpath('train.csv')\n",
    "train_data = pd.read_csv(train_path)\n",
    "train_data.head()"
   ]
  },
  {
   "cell_type": "code",
   "execution_count": 4,
   "metadata": {},
   "outputs": [
    {
     "data": {
      "text/plain": [
       "(891, 12)"
      ]
     },
     "execution_count": 4,
     "metadata": {},
     "output_type": "execute_result"
    }
   ],
   "source": [
    "train_data.shape"
   ]
  },
  {
   "cell_type": "code",
   "execution_count": 5,
   "metadata": {},
   "outputs": [
    {
     "data": {
      "text/plain": [
       "PassengerId      int64\n",
       "Survived         int64\n",
       "Pclass           int64\n",
       "Name            object\n",
       "Sex             object\n",
       "Age            float64\n",
       "SibSp            int64\n",
       "Parch            int64\n",
       "Ticket          object\n",
       "Fare           float64\n",
       "Cabin           object\n",
       "Embarked        object\n",
       "dtype: object"
      ]
     },
     "execution_count": 5,
     "metadata": {},
     "output_type": "execute_result"
    }
   ],
   "source": [
    "train_data.dtypes"
   ]
  },
  {
   "cell_type": "code",
   "execution_count": 6,
   "metadata": {},
   "outputs": [
    {
     "data": {
      "image/png": "[encoded data removed]",
      "text/plain": [
       "<Figure size 720x576 with 9 Axes>"
      ]
     },
     "metadata": {
      "needs_background": "light"
     },
     "output_type": "display_data"
    }
   ],
   "source": [
    "train_data.hist(figsize=(10,8));"
   ]
  },
  {
   "cell_type": "code",
   "execution_count": 7,
   "metadata": {},
   "outputs": [
    {
     "data": {
      "image/png": "[encoded data removed]",
      "text/plain": [
       "<Figure size 432x288 with 1 Axes>"
      ]
     },
     "metadata": {
      "needs_background": "light"
     },
     "output_type": "display_data"
    }
   ],
   "source": [
    "(train_data.Survived\n",
    "         .value_counts(normalize=True)\n",
    "         .plot(kind='bar', color=['R', 'G']))\n",
    "plt.title('Survival %');"
   ]
  },
  {
   "cell_type": "code",
   "execution_count": 8,
   "metadata": {},
   "outputs": [
    {
     "data": {
      "image/png": "[encoded data removed]",
      "text/plain": [
       "<Figure size 576x360 with 1 Axes>"
      ]
     },
     "metadata": {
      "needs_background": "light"
     },
     "output_type": "display_data"
    }
   ],
   "source": [
    "plt.figure(figsize=(8,5))\n",
    "(train_data.Sex[train_data.Survived == 1]\n",
    "             .value_counts(normalize=True)\n",
    "             .plot(kind='bar', color=['Grey', 'Black']))\n",
    "plt.title('Gender Survival %');"
   ]
  },
  {
   "cell_type": "markdown",
   "metadata": {},
   "source": [
    "More females survived.\n",
    "\n",
    "Find the pairwise correlation of all columns in the dataframe. Any non-numeric data type columns in the dataframe are ignored."
   ]
  },
  {
   "cell_type": "code",
   "execution_count": 9,
   "metadata": {},
   "outputs": [
    {
     "data": {
      "image/png": "[encoded data removed]",
      "text/plain": [
       "<Figure size 576x576 with 2 Axes>"
      ]
     },
     "metadata": {
      "needs_background": "light"
     },
     "output_type": "display_data"
    }
   ],
   "source": [
    "corr = train_data.corr()\n",
    "plt.figure(figsize=(8,8))\n",
    "sns.heatmap(corr, vmax=1, square=True, cmap='RdYlGn', linewidths=0.1, annot=True)\n",
    "plt.title('Titanic correlation');"
   ]
  },
  {
   "cell_type": "code",
   "execution_count": 10,
   "metadata": {},
   "outputs": [
    {
     "data": {
      "text/plain": [
       "Pclass        -0.338481\n",
       "Age           -0.077221\n",
       "SibSp         -0.035322\n",
       "PassengerId   -0.005007\n",
       "Parch          0.081629\n",
       "Fare           0.257307\n",
       "Survived       1.000000\n",
       "Name: Survived, dtype: float64"
      ]
     },
     "execution_count": 10,
     "metadata": {},
     "output_type": "execute_result"
    }
   ],
   "source": [
    "train_data.corr()['Survived'].sort_values()"
   ]
  },
  {
   "cell_type": "markdown",
   "metadata": {},
   "source": [
    "Most people survived because of their class, fare, age then parch. "
   ]
  },
  {
   "cell_type": "markdown",
   "metadata": {},
   "source": [
    "The box plot visualises survival chance of 1st, 2nd and 3rd class passengers based on age. "
   ]
  },
  {
   "cell_type": "code",
   "execution_count": 11,
   "metadata": {},
   "outputs": [
    {
     "data": {
      "image/png": "[encoded data removed]",
      "text/plain": [
       "<Figure size 432x288 with 1 Axes>"
      ]
     },
     "metadata": {
      "needs_background": "light"
     },
     "output_type": "display_data"
    }
   ],
   "source": [
    "sns.boxplot(x='Pclass', y='Age', hue='Survived', data=train_data, palette='Set1');"
   ]
  },
  {
   "cell_type": "markdown",
   "metadata": {},
   "source": [
    "Kernel Density Estimation (KDE) visualisation for age within class. Kernel density from [pandas.plot](https://pandas.pydata.org/pandas-docs/stable/reference/api/pandas.DataFrame.plot.kde.html) is a non-parametric smoothing technique which uses Gaussian kernels and includes automatic bandwidth determination. [A useful explanation with interactive javascript plots](https://mglerner.github.io/posts/histograms-and-kernel-density-estimation-kde-2.html?p=28)."
   ]
  },
  {
   "cell_type": "code",
   "execution_count": 12,
   "metadata": {},
   "outputs": [
    {
     "data": {
      "image/png": "[encoded data removed]",
      "text/plain": [
       "<Figure size 1296x432 with 1 Axes>"
      ]
     },
     "metadata": {
      "needs_background": "light"
     },
     "output_type": "display_data"
    }
   ],
   "source": [
    "fig = plt.figure(figsize=(18,6))\n",
    "for x in [1,2,3]:\n",
    "    train_data.Age[train_data.Pclass == x].plot(kind='kde')\n",
    "plt.legend(('1st', '2nd', '3rd'))\n",
    "plt.xlabel('Age')\n",
    "plt.show()"
   ]
  },
  {
   "cell_type": "code",
   "execution_count": 13,
   "metadata": {},
   "outputs": [
    {
     "name": "stdout",
     "output_type": "stream",
     "text": [
      " Youngest:  0.42 \n",
      " Oldest:  80.0\n"
     ]
    }
   ],
   "source": [
    "print(' Youngest: ', min(train_data.Age), '\\n', 'Oldest: ', max(train_data.Age))"
   ]
  },
  {
   "cell_type": "code",
   "execution_count": 14,
   "metadata": {},
   "outputs": [
    {
     "data": {
      "image/png": "[encoded data removed]",
      "text/plain": [
       "<Figure size 1080x576 with 1 Axes>"
      ]
     },
     "metadata": {
      "needs_background": "light"
     },
     "output_type": "display_data"
    }
   ],
   "source": [
    "plt.figure(figsize=(15,8))\n",
    "ax = sns.kdeplot(train_data['Fare'][train_data.Survived == 0],\n",
    "                color='lightcoral', shade=True)\n",
    "sns.kdeplot(train_data['Fare'][train_data.Survived == 1],\n",
    "           color='darkturquoise', shade=True)\n",
    "plt.legend(['Died', 'Survived'])\n",
    "plt.title('Density plot of fare for survived and deceased populations')\n",
    "ax.set(xlabel='Fare')\n",
    "plt.xlim(-20, 200)\n",
    "plt.show()"
   ]
  },
  {
   "cell_type": "code",
   "execution_count": null,
   "metadata": {},
   "outputs": [],
   "source": []
  },
  {
   "cell_type": "code",
   "execution_count": 15,
   "metadata": {},
   "outputs": [
    {
     "name": "stdout",
     "output_type": "stream",
     "text": [
      "class 1 mean age: 38.233440860215055\n",
      "class 2 mean age: 29.87763005780347\n",
      "class 3 mean age: 25.14061971830986\n"
     ]
    }
   ],
   "source": [
    "for num, i in enumerate(range(1,4)):\n",
    "    age = train_data.groupby('Pclass').get_group(i).Age.mean()\n",
    "    print('class', num+1, 'mean age:', age)"
   ]
  },
  {
   "cell_type": "markdown",
   "metadata": {},
   "source": [
    "Were people with larger families less or more likely to survive?\n",
    "- SibSp\t# of siblings / spouses aboard the Titanic\t\n",
    "- Parch\t# of parents / children aboard the Titanic"
   ]
  },
  {
   "cell_type": "code",
   "execution_count": 16,
   "metadata": {},
   "outputs": [
    {
     "data": {
      "image/png": "[encoded data removed]",
      "text/plain": [
       "<Figure size 432x288 with 1 Axes>"
      ]
     },
     "metadata": {},
     "output_type": "display_data"
    }
   ],
   "source": [
    "sns.set_style(style='darkgrid')\n",
    "sns.countplot(x='SibSp', hue='Survived', data=train_data);"
   ]
  },
  {
   "cell_type": "code",
   "execution_count": 17,
   "metadata": {},
   "outputs": [
    {
     "data": {
      "image/png": "[encoded data removed]",
      "text/plain": [
       "<Figure size 432x288 with 1 Axes>"
      ]
     },
     "metadata": {},
     "output_type": "display_data"
    }
   ],
   "source": [
    "sns.countplot(x='Parch', hue='Survived', data=train_data);"
   ]
  },
  {
   "cell_type": "markdown",
   "metadata": {},
   "source": [
    "### 2. Feature Engineering: Create New Features"
   ]
  },
  {
   "cell_type": "markdown",
   "metadata": {},
   "source": [
    "Create a new feature for the Title of a passengers name, create smaller categories based on title/rank/honorific and then map the Title column. "
   ]
  },
  {
   "cell_type": "code",
   "execution_count": 18,
   "metadata": {},
   "outputs": [],
   "source": [
    "def create_title_column_and_standardise(data):\n",
    "    data['Title'] = (data.Name\n",
    "                       .apply(lambda name: name.split(',')[1]\n",
    "                             .split('.')[0].strip()))\n",
    "    print('Unique titles of original dataset: ', '\\n', \n",
    "          data.Title.unique())\n",
    "    simple_titles = {'Mr': 'Mr', 'Mrs': 'Ms', 'Miss': 'Ms', 'Master': 'Master',\n",
    "    'Don': 'Noble','Rev': 'Rev', 'Dr': 'Dr', 'Mme': 'Ms', 'Mlle': 'Ms',\n",
    "    'Ms': 'Ms', 'Major': 'Officer', 'Lady': 'Noble', 'Sir': 'Noble',\n",
    "    'Mlle': 'Ms', 'Col': 'Officer', 'Capt': 'Officer', 'the Countess': 'Noble',\n",
    "    'Jonkheer': 'Noble'}\n",
    "    data.Title = data.Title.map(simple_titles)\n",
    "    print('Standardised Titles: ', '\\n', \n",
    "          data.Title.value_counts())"
   ]
  },
  {
   "cell_type": "code",
   "execution_count": 19,
   "metadata": {},
   "outputs": [
    {
     "name": "stdout",
     "output_type": "stream",
     "text": [
      "Unique titles of original dataset:  \n",
      " ['Mr' 'Mrs' 'Miss' 'Master' 'Don' 'Rev' 'Dr' 'Mme' 'Ms' 'Major' 'Lady'\n",
      " 'Sir' 'Mlle' 'Col' 'Capt' 'the Countess' 'Jonkheer']\n",
      "Standardised Titles:  \n",
      " Mr         517\n",
      "Ms         311\n",
      "Master      40\n",
      "Dr           7\n",
      "Rev          6\n",
      "Noble        5\n",
      "Officer      5\n",
      "Name: Title, dtype: int64\n"
     ]
    }
   ],
   "source": [
    "create_title_column_and_standardise(train_data)"
   ]
  },
  {
   "cell_type": "markdown",
   "metadata": {},
   "source": [
    "Create a new feature for family groups"
   ]
  },
  {
   "cell_type": "code",
   "execution_count": 20,
   "metadata": {},
   "outputs": [],
   "source": [
    "def create_family_column(data):\n",
    "    train_data['Members'] = train_data['Parch'] + train_data['SibSp']\n",
    "    data.Members.replace([8,9,10,11], 7, inplace=True)"
   ]
  },
  {
   "cell_type": "code",
   "execution_count": 21,
   "metadata": {},
   "outputs": [],
   "source": [
    "create_family_column(train_data)"
   ]
  },
  {
   "cell_type": "code",
   "execution_count": 22,
   "metadata": {},
   "outputs": [
    {
     "data": {
      "text/plain": [
       "6     12\n",
       "7     13\n",
       "4     15\n",
       "5     22\n",
       "3     29\n",
       "2    102\n",
       "1    161\n",
       "0    537\n",
       "Name: Members, dtype: int64"
      ]
     },
     "execution_count": 22,
     "metadata": {},
     "output_type": "execute_result"
    }
   ],
   "source": [
    "train_data.Members.value_counts().sort_values()"
   ]
  },
  {
   "cell_type": "markdown",
   "metadata": {},
   "source": [
    "### 3. Fill NaN values"
   ]
  },
  {
   "cell_type": "markdown",
   "metadata": {},
   "source": [
    "A machine learning computation will not work if there is missing data"
   ]
  },
  {
   "cell_type": "code",
   "execution_count": 23,
   "metadata": {},
   "outputs": [
    {
     "data": {
      "text/plain": [
       "PassengerId      0\n",
       "Survived         0\n",
       "Pclass           0\n",
       "Name             0\n",
       "Sex              0\n",
       "Age            177\n",
       "SibSp            0\n",
       "Parch            0\n",
       "Ticket           0\n",
       "Fare             0\n",
       "Cabin          687\n",
       "Embarked         2\n",
       "Title            0\n",
       "Members          0\n",
       "dtype: int64"
      ]
     },
     "execution_count": 23,
     "metadata": {},
     "output_type": "execute_result"
    }
   ],
   "source": [
    "train_data.isnull().sum()"
   ]
  },
  {
   "cell_type": "markdown",
   "metadata": {},
   "source": [
    "#### Age\n",
    "Fill age according to Pclass, Sex and Title. [Pandas guidance on missing data](https://pandas.pydata.org/pandas-docs/stable/user_guide/missing_data.html)."
   ]
  },
  {
   "cell_type": "code",
   "execution_count": 24,
   "metadata": {},
   "outputs": [
    {
     "name": "stdout",
     "output_type": "stream",
     "text": [
      "Sex     Pclass  Title  \n",
      "female  1       Dr         49.0\n",
      "                Ms         35.0\n",
      "                Noble      40.5\n",
      "        2       Ms         28.0\n",
      "        3       Ms         21.5\n",
      "male    1       Dr         44.0\n",
      "                Master      4.0\n",
      "                Mr         40.0\n",
      "                Noble      40.0\n",
      "                Officer    56.0\n",
      "        2       Dr         38.5\n",
      "                Master      1.0\n",
      "                Mr         31.0\n",
      "                Rev        46.5\n",
      "        3       Master      4.0\n",
      "                Mr         26.0\n",
      "Name: Age, dtype: float64\n"
     ]
    }
   ],
   "source": [
    "def fill_missing_age_values(data):\n",
    "    grouped = data.groupby(['Sex', 'Pclass', 'Title'])\n",
    "    print(grouped.Age.median())\n",
    "    data.Age = grouped.Age.apply(lambda x: x.fillna(x.median()))\n",
    "    \n",
    "fill_missing_age_values(train_data)"
   ]
  },
  {
   "cell_type": "markdown",
   "metadata": {},
   "source": [
    "#### Embarked\n",
    "Fill in the null values in Embarked feature.\n",
    "C = Cherbourg, Q = Queenstown, S = Southampton"
   ]
  },
  {
   "cell_type": "code",
   "execution_count": 25,
   "metadata": {},
   "outputs": [
    {
     "data": {
      "text/html": [
       "<div>\n",
       "<style scoped>\n",
       "    .dataframe tbody tr th:only-of-type {\n",
       "        vertical-align: middle;\n",
       "    }\n",
       "\n",
       "    .dataframe tbody tr th {\n",
       "        vertical-align: top;\n",
       "    }\n",
       "\n",
       "    .dataframe thead th {\n",
       "        text-align: right;\n",
       "    }\n",
       "</style>\n",
       "<table border=\"1\" class=\"dataframe\">\n",
       "  <thead>\n",
       "    <tr style=\"text-align: right;\">\n",
       "      <th></th>\n",
       "      <th>PassengerId</th>\n",
       "      <th>Survived</th>\n",
       "      <th>Pclass</th>\n",
       "      <th>Name</th>\n",
       "      <th>Sex</th>\n",
       "      <th>Age</th>\n",
       "      <th>SibSp</th>\n",
       "      <th>Parch</th>\n",
       "      <th>Ticket</th>\n",
       "      <th>Fare</th>\n",
       "      <th>Cabin</th>\n",
       "      <th>Embarked</th>\n",
       "      <th>Title</th>\n",
       "      <th>Members</th>\n",
       "    </tr>\n",
       "  </thead>\n",
       "  <tbody>\n",
       "    <tr>\n",
       "      <th>61</th>\n",
       "      <td>62</td>\n",
       "      <td>1</td>\n",
       "      <td>1</td>\n",
       "      <td>Icard, Miss. Amelie</td>\n",
       "      <td>female</td>\n",
       "      <td>38.0</td>\n",
       "      <td>0</td>\n",
       "      <td>0</td>\n",
       "      <td>113572</td>\n",
       "      <td>80.0</td>\n",
       "      <td>B28</td>\n",
       "      <td>NaN</td>\n",
       "      <td>Ms</td>\n",
       "      <td>0</td>\n",
       "    </tr>\n",
       "    <tr>\n",
       "      <th>829</th>\n",
       "      <td>830</td>\n",
       "      <td>1</td>\n",
       "      <td>1</td>\n",
       "      <td>Stone, Mrs. George Nelson (Martha Evelyn)</td>\n",
       "      <td>female</td>\n",
       "      <td>62.0</td>\n",
       "      <td>0</td>\n",
       "      <td>0</td>\n",
       "      <td>113572</td>\n",
       "      <td>80.0</td>\n",
       "      <td>B28</td>\n",
       "      <td>NaN</td>\n",
       "      <td>Ms</td>\n",
       "      <td>0</td>\n",
       "    </tr>\n",
       "  </tbody>\n",
       "</table>\n",
       "</div>"
      ],
      "text/plain": [
       "     PassengerId  Survived  Pclass                                       Name  \\\n",
       "61            62         1       1                        Icard, Miss. Amelie   \n",
       "829          830         1       1  Stone, Mrs. George Nelson (Martha Evelyn)   \n",
       "\n",
       "        Sex   Age  SibSp  Parch  Ticket  Fare Cabin Embarked Title  Members  \n",
       "61   female  38.0      0      0  113572  80.0   B28      NaN    Ms        0  \n",
       "829  female  62.0      0      0  113572  80.0   B28      NaN    Ms        0  "
      ]
     },
     "execution_count": 25,
     "metadata": {},
     "output_type": "execute_result"
    }
   ],
   "source": [
    "train_data[train_data.Embarked.isnull()]"
   ]
  },
  {
   "cell_type": "markdown",
   "metadata": {},
   "source": [
    "Both paid $80 and travelled first class."
   ]
  },
  {
   "cell_type": "code",
   "execution_count": 26,
   "metadata": {},
   "outputs": [
    {
     "data": {
      "image/png": "[encoded data removed]",
      "text/plain": [
       "<Figure size 432x288 with 1 Axes>"
      ]
     },
     "metadata": {},
     "output_type": "display_data"
    }
   ],
   "source": [
    "sns.boxplot(x='Embarked', y='Fare', hue='Sex', data=train_data);"
   ]
  },
  {
   "cell_type": "markdown",
   "metadata": {},
   "source": [
    "Higher paying females travels from Cherbourg. "
   ]
  },
  {
   "cell_type": "code",
   "execution_count": 27,
   "metadata": {},
   "outputs": [],
   "source": [
    "train_data['Embarked'] = train_data['Embarked'].fillna('C')"
   ]
  },
  {
   "cell_type": "markdown",
   "metadata": {},
   "source": [
    "#### Cabin numbers"
   ]
  },
  {
   "cell_type": "code",
   "execution_count": 28,
   "metadata": {},
   "outputs": [
    {
     "data": {
      "text/plain": [
       "array(['U', 'C', 'E', 'G', 'D', 'A', 'B', 'F', 'T'], dtype=object)"
      ]
     },
     "execution_count": 28,
     "metadata": {},
     "output_type": "execute_result"
    }
   ],
   "source": [
    "def clean_cabin(x):\n",
    "    try:\n",
    "        return x[0]\n",
    "    except:\n",
    "        return 'U'\n",
    "train_data['Cabin'] = train_data.Cabin.apply(clean_cabin)\n",
    "train_data['Cabin'].unique()"
   ]
  },
  {
   "cell_type": "code",
   "execution_count": 29,
   "metadata": {},
   "outputs": [
    {
     "name": "stdout",
     "output_type": "stream",
     "text": [
      "<class 'pandas.core.frame.DataFrame'>\n",
      "RangeIndex: 891 entries, 0 to 890\n",
      "Data columns (total 14 columns):\n",
      "PassengerId    891 non-null int64\n",
      "Survived       891 non-null int64\n",
      "Pclass         891 non-null int64\n",
      "Name           891 non-null object\n",
      "Sex            891 non-null object\n",
      "Age            891 non-null float64\n",
      "SibSp          891 non-null int64\n",
      "Parch          891 non-null int64\n",
      "Ticket         891 non-null object\n",
      "Fare           891 non-null float64\n",
      "Cabin          891 non-null object\n",
      "Embarked       891 non-null object\n",
      "Title          891 non-null object\n",
      "Members        891 non-null int64\n",
      "dtypes: float64(2), int64(6), object(6)\n",
      "memory usage: 97.5+ KB\n"
     ]
    }
   ],
   "source": [
    "train_data.info()"
   ]
  },
  {
   "cell_type": "markdown",
   "metadata": {},
   "source": [
    "### 4. Feature Engineering: categorical data to numerical using one hot encoding and feature scaling"
   ]
  },
  {
   "cell_type": "markdown",
   "metadata": {},
   "source": [
    "The last step to perform before we can begin our modeling is convert all our categorical features to numbers. Random Forest and Logistic Regression algorithms can only take an array of numbers as an input, not names or letters. \n",
    "\n",
    "A [great article by Laurae](https://medium.com/data-design/visiting-categorical-features-and-encoding-in-decision-trees-53400fa65931) on finding the best data structure for the machine learning model.\n",
    "\n",
    "Approaches:\n",
    "1. Label encoding: simply converting each value in a column to a number. Using `astype` to convert 'object' to 'category' then pandas `.cat.codes` to assign an encoded variable. The problem can be we might confuse our model into thinking that a column has data with some kind of order or hierarchy\n",
    "2. One hot encoding: implemented in scikit-learn as `sklearn.preprocessing.OneHotEncoder`. Dummy coding/one-hot encoding are also implemented in Pandas as `pandas.get_dummies`. "
   ]
  },
  {
   "cell_type": "code",
   "execution_count": 30,
   "metadata": {},
   "outputs": [],
   "source": [
    "train_data['Sex'] = train_data.Sex.map({'male': 0, 'female': 1})"
   ]
  },
  {
   "cell_type": "code",
   "execution_count": 31,
   "metadata": {},
   "outputs": [],
   "source": [
    "title_encoded = pd.get_dummies(train_data.Title, prefix='Title')\n",
    "cabin_encoded = pd.get_dummies(train_data.Cabin, prefix='Deck')\n",
    "embarked_encoded = pd.get_dummies(train_data.Embarked, prefix='Embarked')\n",
    "pclass_encoded = pd.get_dummies(train_data.Pclass, prefix='Pclass')\n",
    "members_encoded = pd.get_dummies(train_data.Members, prefix='Members')"
   ]
  },
  {
   "cell_type": "code",
   "execution_count": 32,
   "metadata": {},
   "outputs": [],
   "source": [
    "titanic_train = pd.concat([train_data, title_encoded, \n",
    "                          cabin_encoded, embarked_encoded, pclass_encoded, members_encoded], axis=1)"
   ]
  },
  {
   "cell_type": "code",
   "execution_count": 33,
   "metadata": {},
   "outputs": [
    {
     "data": {
      "text/plain": [
       "(891, 34)"
      ]
     },
     "execution_count": 33,
     "metadata": {},
     "output_type": "execute_result"
    }
   ],
   "source": [
    "titanic_train.drop(['Name', 'Ticket', 'Title',\n",
    "                   'Cabin', 'Embarked', 'PassengerId',\n",
    "                   'SibSp', 'Parch', 'Pclass', 'Members'], axis=1, inplace=True)\n",
    "titanic_train.shape"
   ]
  },
  {
   "cell_type": "code",
   "execution_count": 34,
   "metadata": {},
   "outputs": [],
   "source": [
    "# titanic_train.T"
   ]
  },
  {
   "cell_type": "markdown",
   "metadata": {},
   "source": [
    "**Feature Scaling**\n",
    "\n",
    "There are two common ways to get all attributes to have the same scale: min-max scaling and standardization.\n",
    "\n",
    "Min-max scaling (many people call this normalization) is quite simple: values are shifted and rescaled so that they end up ranging from 0 to 1. We do this by subtracting the min value and dividing by the max minus the min. \n",
    "\n",
    "Standardization is quite different: first it subtracts the mean value (so standardized values always have a zero mean), and then it divides by the standard deviation so that the resulting distribution has unit variance. \n",
    "\n",
    "*WARNING: It is important to fit the scalers to the training data only, not to the full dataset (including the test set). Only then can you use them to transform the training set and the test set (and new data).*\n",
    "\n",
    "Source: [Hands-on Machine Learning with Scikit-Learn, Keras, and TensorFlow, 2nd Edition](https://learning.oreilly.com/library/view/hands-on-machine-learning/9781492032632/ch02.html)\n",
    "\n",
    "Apply a Standard Scalar to numerical values.\n",
    "\n",
    "The idea behind StandardScaler is that it will normalize the features (each column of X individually) so that each column/feature/variable will have mean = 0 and standard deviation = 1 [Source: stackoverflow](https://stackoverflow.com/questions/40758562/can-anyone-explain-me-standardscaler)"
   ]
  },
  {
   "cell_type": "code",
   "execution_count": 35,
   "metadata": {},
   "outputs": [
    {
     "data": {
      "text/html": [
       "<div>\n",
       "<style scoped>\n",
       "    .dataframe tbody tr th:only-of-type {\n",
       "        vertical-align: middle;\n",
       "    }\n",
       "\n",
       "    .dataframe tbody tr th {\n",
       "        vertical-align: top;\n",
       "    }\n",
       "\n",
       "    .dataframe thead th {\n",
       "        text-align: right;\n",
       "    }\n",
       "</style>\n",
       "<table border=\"1\" class=\"dataframe\">\n",
       "  <thead>\n",
       "    <tr style=\"text-align: right;\">\n",
       "      <th></th>\n",
       "      <th>Survived</th>\n",
       "      <th>Sex</th>\n",
       "      <th>Age</th>\n",
       "      <th>Fare</th>\n",
       "    </tr>\n",
       "  </thead>\n",
       "  <tbody>\n",
       "    <tr>\n",
       "      <th>0</th>\n",
       "      <td>0</td>\n",
       "      <td>0</td>\n",
       "      <td>22.0</td>\n",
       "      <td>7.2500</td>\n",
       "    </tr>\n",
       "    <tr>\n",
       "      <th>1</th>\n",
       "      <td>1</td>\n",
       "      <td>1</td>\n",
       "      <td>38.0</td>\n",
       "      <td>71.2833</td>\n",
       "    </tr>\n",
       "  </tbody>\n",
       "</table>\n",
       "</div>"
      ],
      "text/plain": [
       "   Survived  Sex   Age     Fare\n",
       "0         0    0  22.0   7.2500\n",
       "1         1    1  38.0  71.2833"
      ]
     },
     "execution_count": 35,
     "metadata": {},
     "output_type": "execute_result"
    }
   ],
   "source": [
    "titanic_train.select_dtypes(['float64','int64'])[:2]"
   ]
  },
  {
   "cell_type": "code",
   "execution_count": 36,
   "metadata": {},
   "outputs": [
    {
     "data": {
      "text/plain": [
       "['Age', 'Fare']"
      ]
     },
     "execution_count": 36,
     "metadata": {},
     "output_type": "execute_result"
    }
   ],
   "source": [
    "ss_scalar = StandardScaler()\n",
    "train_data_numerical = (list(titanic_train\n",
    "                             .select_dtypes(['float64','int64'])\n",
    "                             .columns))\n",
    "train_data_numerical.remove('Survived')\n",
    "train_data_numerical.remove('Sex');train_data_numerical"
   ]
  },
  {
   "cell_type": "code",
   "execution_count": 37,
   "metadata": {},
   "outputs": [],
   "source": [
    "titanic_train_ss = pd.DataFrame(data=titanic_train)\n",
    "titanic_train_ss[train_data_numerical] = (ss_scalar\n",
    "                                          .fit_transform(titanic_train_ss[train_data_numerical]))"
   ]
  },
  {
   "cell_type": "code",
   "execution_count": 38,
   "metadata": {},
   "outputs": [],
   "source": [
    "# titanic_train_ss.head().T"
   ]
  },
  {
   "cell_type": "code",
   "execution_count": 39,
   "metadata": {},
   "outputs": [
    {
     "data": {
      "text/plain": [
       "(891, 34)"
      ]
     },
     "execution_count": 39,
     "metadata": {},
     "output_type": "execute_result"
    }
   ],
   "source": [
    "titanic_train_ss.shape"
   ]
  },
  {
   "cell_type": "markdown",
   "metadata": {},
   "source": [
    "### Data for Machine Learning"
   ]
  },
  {
   "cell_type": "code",
   "execution_count": 40,
   "metadata": {},
   "outputs": [],
   "source": [
    "X = titanic_train_ss.drop('Survived', axis=1).values\n",
    "y = titanic_train_ss.Survived.values"
   ]
  },
  {
   "cell_type": "code",
   "execution_count": 41,
   "metadata": {},
   "outputs": [
    {
     "data": {
      "text/plain": [
       "((891, 33), (891,))"
      ]
     },
     "execution_count": 41,
     "metadata": {},
     "output_type": "execute_result"
    }
   ],
   "source": [
    "X.shape, y.shape"
   ]
  },
  {
   "cell_type": "markdown",
   "metadata": {},
   "source": [
    "Split the dataset into training and validation. The validation set should be used to see how well the model performs on unseen data."
   ]
  },
  {
   "cell_type": "code",
   "execution_count": 42,
   "metadata": {},
   "outputs": [],
   "source": [
    "X_train, X_valid, y_train, y_valid = train_test_split(X, y, \n",
    "                                                      test_size=0.2,\n",
    "                                                     random_state=7)"
   ]
  },
  {
   "cell_type": "markdown",
   "metadata": {},
   "source": [
    "## 5. Ready for Machine Learning"
   ]
  },
  {
   "cell_type": "markdown",
   "metadata": {},
   "source": [
    "### 1. [Logistic Regression](https://ml-cheatsheet.readthedocs.io/en/latest/logistic_regression.html)\n",
    "\n",
    "- Logistic regression is a classification algorithm\n",
    "- Logistic regression works on **nominal** variables to model the relationship between a number of independent variable(s) *x* and dependent variable *y*. Goal: to find the regression coefficients. \n",
    "- uses the logistic sigmoid function to return a probability value. A probability values always falls between 0 and 1. \n",
    "- using scikit-learn `Logistic Regression` function will apply regularization by default. [Andrew Ng coursera Machine Learning course](https://www.coursera.org/lecture/machine-learning/regularized-logistic-regression-4BHEy) has a good video explaining this: regularization can help take care of overfitting. "
   ]
  },
  {
   "cell_type": "code",
   "execution_count": 43,
   "metadata": {},
   "outputs": [],
   "source": [
    "log_reg = LogisticRegression(solver='liblinear', max_iter=200)\n",
    "log_reg_model = log_reg.fit(X_train, y_train)"
   ]
  },
  {
   "cell_type": "code",
   "execution_count": 44,
   "metadata": {},
   "outputs": [
    {
     "name": "stdout",
     "output_type": "stream",
     "text": [
      "train score: 0.8539325842696629\n",
      "valid score: 0.7821229050279329\n"
     ]
    }
   ],
   "source": [
    "log_score_train = log_reg_model.score(X_train, y_train)\n",
    "log_score_valid = log_reg_model.score(X_valid, y_valid)\n",
    "print('train score: {}\\nvalid score: {}'.format(log_score_train, log_score_valid))"
   ]
  },
  {
   "cell_type": "markdown",
   "metadata": {},
   "source": [
    "Interpreting the logistic regression model"
   ]
  },
  {
   "cell_type": "code",
   "execution_count": 45,
   "metadata": {},
   "outputs": [
    {
     "name": "stdout",
     "output_type": "stream",
     "text": [
      "logistic regression: intercept = [-0.44252905] coefficients = weights [[ 1.16790971 -0.39154323  0.11977934 -0.65611956  1.3384062  -0.97839066\n",
      "   1.00813533 -0.06540886 -0.32823118 -0.76092032 -0.27631296  0.06046461\n",
      "  -0.16429167  0.34967403  0.88791783  0.13548703 -0.40441235 -0.22932595\n",
      "  -0.80172963  0.16561487 -0.18975712 -0.4183868   0.39040663  0.05792123\n",
      "  -0.89085691  0.93218356  0.52355283  1.05268188  0.94769227 -0.9734256\n",
      "  -1.34949836 -0.29401234 -1.28170328]]\n"
     ]
    }
   ],
   "source": [
    "intercept = log_reg_model.intercept_\n",
    "weights = log_reg_model.coef_\n",
    "print('logistic regression: intercept = {} coefficients = weights {}'.format(intercept, weights))"
   ]
  },
  {
   "cell_type": "markdown",
   "metadata": {},
   "source": [
    "Confusion martix: to look at the validation performance"
   ]
  },
  {
   "cell_type": "code",
   "execution_count": 46,
   "metadata": {},
   "outputs": [],
   "source": [
    "y_pred_valid = log_reg_model.predict(X_valid)"
   ]
  },
  {
   "cell_type": "code",
   "execution_count": 47,
   "metadata": {},
   "outputs": [
    {
     "data": {
      "image/png": "[encoded data removed]",
      "text/plain": [
       "<Figure size 432x288 with 2 Axes>"
      ]
     },
     "metadata": {},
     "output_type": "display_data"
    }
   ],
   "source": [
    "cm = confusion_matrix(y_valid, y_pred_valid)\n",
    "df_cm = pd.DataFrame(cm, index=[0,1], columns = [0,1])\n",
    "plt.figure(figsize=(6,4))\n",
    "sns.heatmap(df_cm, annot=True, cmap='Blues');"
   ]
  },
  {
   "cell_type": "markdown",
   "metadata": {},
   "source": [
    "### 2. Random Forest"
   ]
  },
  {
   "cell_type": "markdown",
   "metadata": {},
   "source": [
    "[This youtube video](https://www.youtube.com/watch?v=0GrciaGYzV0) from Mike Bernico\n",
    "\n",
    "It useful to benchmark with various different models. So using a small number of estimators or a subset of the data is used to begin.\n",
    "\n",
    "[Predicting the Survival of Titanic Passengers blog](https://towardsdatascience.com/predicting-the-survival-of-titanic-passengers-30870ccc7e8)"
   ]
  },
  {
   "cell_type": "code",
   "execution_count": 49,
   "metadata": {},
   "outputs": [],
   "source": [
    "rf_v1 = RandomForestRegressor(n_estimators=100, oob_score=True, random_state=42) #oob mean out of bag\n",
    "rf_model_v1 = rf_v1.fit(X_train, y_train)"
   ]
  },
  {
   "cell_type": "code",
   "execution_count": 50,
   "metadata": {},
   "outputs": [
    {
     "name": "stdout",
     "output_type": "stream",
     "text": [
      "rf train score: 0.896668060820888\n",
      "rf valid score: 0.38706320901991226\n"
     ]
    }
   ],
   "source": [
    "rf_score_train_v1 = rf_model_v1.score(X_train, y_train)\n",
    "rf_score_valid_v1 = rf_model_v1.score(X_valid, y_valid)\n",
    "print('rf train score: {}\\nrf valid score: {}'.format(rf_score_train_v1, rf_score_valid_v1))"
   ]
  },
  {
   "cell_type": "code",
   "execution_count": 51,
   "metadata": {},
   "outputs": [
    {
     "data": {
      "image/png": "[encoded data removed]",
      "text/plain": [
       "<Figure size 504x432 with 1 Axes>"
      ]
     },
     "metadata": {},
     "output_type": "display_data"
    }
   ],
   "source": [
    "def agg_values(categories:list, model, features):\n",
    "    '''\n",
    "    Based on code by Mike Bernico (https://www.youtube.com/watch?v=0GrciaGYzV0)\n",
    "    \n",
    "    Graphs the feature importances of a random decision forest using a horizontal bar chart.\n",
    "    \n",
    "    Inputs\n",
    "    ------\n",
    "    - categories: a list of column name prefixes \n",
    "        e.g. ['Age', 'Fare', 'Title', 'Deck', 'Embarked', 'Pclass', 'Members', 'Sex']\n",
    "    - model: random forest model\n",
    "    - features: all feature names from the training data\n",
    "    '''\n",
    "    \n",
    "    feature_dict = dict(zip(features, model.feature_importances_))\n",
    "    sum_value = []\n",
    "    if categories:\n",
    "        for col_name in categories:\n",
    "            sum_item = sum(x for i, x in feature_dict.items() if col_name in i)\n",
    "            sum_value.append(sum_item)\n",
    "    (pd.Series(sum_value, index=categories)\n",
    "     .sort_values()\n",
    "     .plot(kind='barh', figsize=(7,6)));\n",
    "    \n",
    "agg_values(categories=['Age', 'Fare', 'Title', 'Deck', 'Embarked', 'Pclass', 'Members', 'Sex'],\n",
    "          model=rf_model_v1,\n",
    "          features=titanic_train.drop('Survived', axis=1).columns)"
   ]
  },
  {
   "cell_type": "markdown",
   "metadata": {},
   "source": [
    "#### The model looks like it is really overfitting!\n",
    "\n",
    "Random forest is placing a higher score on the scaled numerical values! Sex is also not one-hot-encoded, could I get better results if I have a sex_female and sex_male column? What about not scaling the continuous features? "
   ]
  },
  {
   "cell_type": "code",
   "execution_count": 52,
   "metadata": {},
   "outputs": [],
   "source": [
    "titanic_train['Sex'] = titanic_train.Sex.map({0: 'Male', 1: 'Female'})\n",
    "sex_encoded = pd.get_dummies(titanic_train.Sex, prefix='Sex')\n",
    "titanic_train_v2 = pd.concat([titanic_train, sex_encoded], axis=1).drop(['Sex'], axis=1)"
   ]
  },
  {
   "cell_type": "code",
   "execution_count": 71,
   "metadata": {},
   "outputs": [],
   "source": [
    "headers = titanic_train_v2.drop('Survived', axis=1).columns"
   ]
  },
  {
   "cell_type": "code",
   "execution_count": 53,
   "metadata": {},
   "outputs": [],
   "source": [
    "X_v2 = titanic_train_v2.drop('Survived', axis=1).values\n",
    "y_v2 = titanic_train_v2.Survived.values\n",
    "X_train_v2, X_valid_v2, y_train_v2, y_valid_v2 = train_test_split(X_v2, y_v2, \n",
    "                                                      test_size=0.2,\n",
    "                                                     random_state=7)"
   ]
  },
  {
   "cell_type": "code",
   "execution_count": 54,
   "metadata": {},
   "outputs": [
    {
     "data": {
      "text/plain": [
       "(179, 34)"
      ]
     },
     "execution_count": 54,
     "metadata": {},
     "output_type": "execute_result"
    }
   ],
   "source": [
    "X_valid_v2.shape"
   ]
  },
  {
   "cell_type": "code",
   "execution_count": 55,
   "metadata": {},
   "outputs": [],
   "source": [
    "rf_v2 = RandomForestRegressor(n_estimators=100, oob_score=True, random_state=42)\n",
    "rf_model_v2 = rf_v2.fit(X_train_v2, y_train_v2)"
   ]
  },
  {
   "cell_type": "code",
   "execution_count": 56,
   "metadata": {},
   "outputs": [
    {
     "name": "stdout",
     "output_type": "stream",
     "text": [
      "rf train score: 0.896320079314723\n",
      "rf valid score: 0.39390492895370366\n"
     ]
    }
   ],
   "source": [
    "rf_score_train_v2 = rf_model_v2.score(X_train_v2, y_train_v2)\n",
    "rf_score_valid_v2 = rf_model_v2.score(X_valid_v2, y_valid_v2)\n",
    "print('rf train score: {}\\nrf valid score: {}'.format(rf_score_train_v2, rf_score_valid_v2))"
   ]
  },
  {
   "cell_type": "code",
   "execution_count": 57,
   "metadata": {},
   "outputs": [
    {
     "data": {
      "image/png": "[encoded data removed]",
      "text/plain": [
       "<Figure size 504x432 with 1 Axes>"
      ]
     },
     "metadata": {},
     "output_type": "display_data"
    }
   ],
   "source": [
    "agg_values(categories=['Age', 'Fare', 'Title', 'Deck', 'Embarked', 'Pclass', 'Members', 'Sex'],\n",
    "          model=rf_model_v2,\n",
    "          features=titanic_train_v2.drop('Survived', axis=1).columns)"
   ]
  },
  {
   "cell_type": "markdown",
   "metadata": {},
   "source": [
    "A small difference but not a lot. "
   ]
  },
  {
   "cell_type": "markdown",
   "metadata": {},
   "source": [
    "### Parameter Tuning"
   ]
  },
  {
   "cell_type": "code",
   "execution_count": 58,
   "metadata": {},
   "outputs": [
    {
     "name": "stdout",
     "output_type": "stream",
     "text": [
      "30  trees\n",
      "rf train score: 0.8921547679604727\n",
      "rf valid score: 0.38462669983711884\n",
      "50  trees\n",
      "rf train score: 0.8955176658055681\n",
      "rf valid score: 0.3866770598596391\n",
      "100  trees\n",
      "rf train score: 0.896320079314723\n",
      "rf valid score: 0.39390492895370366\n",
      "200  trees\n",
      "rf train score: 0.8973842928733935\n",
      "rf valid score: 0.39178641472010794\n",
      "500  trees\n",
      "rf train score: 0.8977960152674108\n",
      "rf valid score: 0.39266200301832743\n",
      "1000  trees\n",
      "rf train score: 0.8983662263427843\n",
      "rf valid score: 0.3999285639454407\n",
      "2000  trees\n",
      "rf train score: 0.8989583068740274\n",
      "rf valid score: 0.4041801068888187\n"
     ]
    }
   ],
   "source": [
    "results = []\n",
    "n_estimators_options = [30,50,100,200,500,1000,2000]\n",
    "for trees in n_estimators_options:\n",
    "    rf = RandomForestRegressor(trees, oob_score=True, n_jobs=-1, random_state=42)\n",
    "    rf_model = rf.fit(X_train_v2, y_train_v2)\n",
    "    print(trees, \" trees\")\n",
    "    rf_score_train = rf_model.score(X_train_v2, y_train_v2)\n",
    "    rf_score_valid = rf_model.score(X_valid_v2, y_valid_v2)\n",
    "    print('rf train score: {}\\nrf valid score: {}'.format(rf_score_train, rf_score_valid))"
   ]
  },
  {
   "cell_type": "markdown",
   "metadata": {},
   "source": [
    "This is still not improving the model enough to get a decent baseline of 0.5 for the validation set. "
   ]
  },
  {
   "cell_type": "markdown",
   "metadata": {},
   "source": [
    "#### Lets try and find out where the bad predictions are occuring"
   ]
  },
  {
   "cell_type": "code",
   "execution_count": 77,
   "metadata": {},
   "outputs": [],
   "source": [
    "df_x = pd.DataFrame(X_valid_v2, columns=headers)"
   ]
  },
  {
   "cell_type": "code",
   "execution_count": 83,
   "metadata": {},
   "outputs": [],
   "source": [
    "df_y = pd.Series(y_valid_v2, name='Survived_actual')"
   ]
  },
  {
   "cell_type": "code",
   "execution_count": 84,
   "metadata": {},
   "outputs": [],
   "source": [
    "df_valid = pd.concat([df_x, df_y], axis=1, sort=False)"
   ]
  },
  {
   "cell_type": "code",
   "execution_count": 91,
   "metadata": {},
   "outputs": [
    {
     "data": {
      "text/plain": [
       "array([6.50000000e-03, 2.16575000e-01, 7.36825595e-01, 1.40000000e-02,\n",
       "       1.00000000e+00, 9.99500000e-01, 3.71254967e-02, 5.50000000e-03,\n",
       "       1.70000000e-02, 9.37000000e-01, 9.08000000e-01, 6.37500000e-02,\n",
       "       7.75500000e-01, 9.98000000e-01, 3.69091667e-01, 1.96708117e-02,\n",
       "       6.14315873e-01, 3.00000000e-03, 1.51000000e-02, 9.56666667e-03,\n",
       "       3.94500000e-01, 7.75000000e-03, 6.30000000e-02, 5.39983333e-01,\n",
       "       2.45500000e-01, 8.05533333e-01, 9.41500000e-01, 9.68250000e-02,\n",
       "       5.20000000e-02, 9.98500000e-01, 9.78500000e-01, 8.53500000e-01,\n",
       "       1.42016820e-01, 1.48500000e-01, 7.19325000e-01, 2.52079365e-02,\n",
       "       5.86500000e-01, 7.15940476e-02, 4.85000000e-02, 2.00000000e-03,\n",
       "       2.60000000e-02, 9.39500000e-01, 0.00000000e+00, 7.00000000e-03,\n",
       "       0.00000000e+00, 2.30000000e-02, 5.35000000e-02, 0.00000000e+00,\n",
       "       1.25000000e-02, 9.51111111e-02, 3.81267911e-01, 8.93500000e-01,\n",
       "       9.99000000e-01, 5.00000000e-04, 1.19250000e-01, 9.20000000e-03,\n",
       "       6.20000000e-02, 1.41000000e-01, 4.59369643e-01, 4.08500000e-01,\n",
       "       1.00000000e+00, 6.80000000e-02, 9.79695395e-01, 3.34500000e-01,\n",
       "       8.18667659e-01, 1.21000000e-02, 1.50000000e-03, 2.94294720e-01,\n",
       "       2.45000000e-01, 9.37500000e-01, 3.57500000e-01, 3.50000000e-03,\n",
       "       3.82011905e-02, 1.90000000e-01, 3.00000000e-03, 2.11000000e-02,\n",
       "       9.99000000e-01, 1.51500000e-01, 7.50000000e-01, 3.98000000e-01,\n",
       "       8.36500000e-01, 4.59369643e-01, 2.46752958e-01, 1.81500000e-01,\n",
       "       9.48000000e-01, 2.05000000e-02, 1.39625000e-01, 2.87000000e-01,\n",
       "       6.79000000e-01, 2.48000000e-01, 5.66000000e-01, 3.96000000e-01,\n",
       "       9.98500000e-01, 8.95500000e-01, 1.02493776e-02, 4.74500000e-01,\n",
       "       9.40000000e-02, 1.30500000e-01, 1.58000000e-01, 1.08794048e-01,\n",
       "       9.54500000e-01, 5.07500000e-01, 9.57000000e-02, 4.75000000e-03,\n",
       "       0.00000000e+00, 4.23250000e-02, 3.70000000e-02, 9.98500000e-01,\n",
       "       1.67916667e-02, 1.88000000e-01, 5.82000000e-01, 1.44500000e-01,\n",
       "       6.77500000e-01, 8.71000000e-01, 2.02245635e-01, 3.88000000e-01,\n",
       "       2.97000000e-01, 8.46500000e-01, 9.11000000e-01, 1.92550749e-01,\n",
       "       9.73000000e-01, 4.45727850e-01, 6.47579365e-03, 1.04389043e-01,\n",
       "       1.54000000e-01, 4.23250000e-02, 2.13833333e-01, 3.12500000e-03,\n",
       "       3.20006746e-01, 9.43000000e-01, 2.50000000e-03, 2.18441336e-02,\n",
       "       9.97500000e-01, 4.98000000e-01, 1.00000000e-03, 2.63500000e-01,\n",
       "       2.81000000e-01, 3.79000000e-01, 5.70000000e-01, 1.57000000e-01,\n",
       "       8.70000000e-02, 6.63750000e-01, 8.89500000e-01, 6.18500000e-01,\n",
       "       2.46752958e-01, 1.42016820e-01, 3.44000000e-01, 9.50000000e-03,\n",
       "       5.84000000e-01, 0.00000000e+00, 2.06000000e-01, 2.26500000e-01,\n",
       "       8.78000000e-01, 1.00000000e+00, 1.64583333e-03, 8.38000000e-01,\n",
       "       2.64000000e-02, 1.47344048e-01, 5.55500000e-01, 1.09500000e-02,\n",
       "       8.95857894e-01, 2.79000000e-01, 1.45000000e-02, 7.58000000e-01,\n",
       "       1.54500000e-01, 0.00000000e+00, 4.17279762e-02, 1.24754167e-01,\n",
       "       3.98000000e-01, 5.50000000e-03, 1.46087757e-01, 3.81000000e-01,\n",
       "       2.17000000e-01, 7.23000000e-01, 1.00000000e+00, 6.40000000e-01,\n",
       "       1.91666667e-03, 2.86550749e-01, 8.87000000e-01])"
      ]
     },
     "execution_count": 91,
     "metadata": {},
     "output_type": "execute_result"
    }
   ],
   "source": [
    "rf_model.predict(X_valid_v2) #is this weird? should i want 1s and 0s?"
   ]
  },
  {
   "cell_type": "markdown",
   "metadata": {},
   "source": [
    "### 3. XG Boost"
   ]
  },
  {
   "cell_type": "markdown",
   "metadata": {},
   "source": [
    "### 4. SVM"
   ]
  }
 ],
 "metadata": {
  "kernelspec": {
   "display_name": "Python 3",
   "language": "python",
   "name": "python3"
  },
  "language_info": {
   "codemirror_mode": {
    "name": "ipython",
    "version": 3
   },
   "file_extension": ".py",
   "mimetype": "text/x-python",
   "name": "python",
   "nbconvert_exporter": "python",
   "pygments_lexer": "ipython3",
   "version": "3.7.3"
  }
 },
 "nbformat": 4,
 "nbformat_minor": 2
}
