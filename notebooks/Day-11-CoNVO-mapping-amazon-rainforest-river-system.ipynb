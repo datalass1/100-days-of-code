{
 "cells": [
  {
   "cell_type": "markdown",
   "metadata": {},
   "source": [
    "# Day 11 CoNVO"
   ]
  },
  {
   "cell_type": "markdown",
   "metadata": {},
   "source": [
    "\"There is no shortcut to gaining experience, but there is a fast way to learn from your mistakes, and that is to try to make as many of them as you can. Especially if you are just getting started, creating things in quantity is more important than creating things of quality. **There is a saying in the world of Go (the east Asian board game): lose your first fifty games of Go as quickly as possible.**\""
   ]
  },
  {
   "cell_type": "markdown",
   "metadata": {},
   "source": [
    "# Thinking with Data by Max Shron\n",
    "https://learning.oreilly.com/library/view/thinking-with-data/9781491949757/ch01.html\n",
    "\n",
    "**Chapter on Scoping the Why before How**\n",
    "\n",
    "\"... attend to the problem of why and so what before we get tripped up in how.\" \n",
    "\n",
    "There are four parts to a project scope. The four parts are the **context** of the project; the **needs** that the project is trying to meet; the **vision** of what success might look like; and finally what the **outcome** will be.\n",
    "\n",
    "#### Context\n",
    "The context sets the overall tone for the project, and guides the choices we make about what to pursue.\n",
    "\n",
    "#### Need\n",
    "What are the specific needs that could be fixed by intelligently using data?\n",
    "\n",
    "The need is to solve the problem that having the model will solve.\n",
    "\n",
    "A good need informs an action rather than simply informing. Rather than saying, “The manager wants to know where users drop out on the way to buying something,” consider saying, “The manager wants more users to finish their purchases. How do we encourage that?” \n",
    "\n",
    "The action-oriented formulation opens up more possibilities, such as testing new designs and performing user experience interviews to gather more data.\n",
    "\n",
    "#### Vision\n",
    "We need some vision of where we are going and what it might look like to achieve our goal.\n",
    "\n",
    "The vision is a glimpse of what it will look like to meet the need with data. It could consist of a mockup describing the intended results, or a sketch of the argument that we’re going to make, or some particular questions that narrowly focus our aims.\n",
    "\n",
    "#### Outcome\n",
    "In the end, how will its success be measured?\n",
    "\n",
    "The outcome is distinct from the vision; the vision is focused on what form the work will take at the end, while the outcome is focused on what will happen when we are “done.”\n",
    "\n",
    "**Further research** \n",
    "- https://www.sciencedirect.com/science/article/pii/S0034425718305534 - random forest to predict logged/not logged pixels. \n",
    "- https://www.kaggle.com/c/planet-understanding-the-amazon-from-space - machine learning competition on Kaggle for multi-label classification of the Amazon. Most people found the RGB jpegs useful, the tifs of the NIR had problems: mis-labelled. \n",
    "- https://wiki.openstreetmap.org/wiki/Mapazonia - OSM mapping the Amazons rivers and roads"
   ]
  },
  {
   "cell_type": "markdown",
   "metadata": {},
   "source": [
    "# Amazon Rainforest River Classification and Mapping CoNVO"
   ]
  },
  {
   "cell_type": "markdown",
   "metadata": {},
   "source": [
    "#### Context \n",
    "\n",
    "In the Amazon Rainforest more than 150 acres lost every minute of every day, and 78 million acres lost every year [1](http://www.rain-tree.com/facts.htm). This area is of worldwide importance for many reasons; carbon sink, and a habitat to amazing and biodiverse wildlife of flora and fauna. Conservation groups working to expose illegal logging/mining and performing wildlife surveys in the Amazon are using out-of-date maps to navigate along the Amazon river systems. By having some current and accurate maps of the Amazon river they will be able to carry out their work safely and effectively, therefore furthering the protection of the Amazon Rainforest. \n",
    "\n",
    "#### Need\n",
    "\n",
    "It is dangerous navigating along Amazon rivers and the conservationalists want accurate and up-to-date maps to plan and go on their expeditions with. Is there an intelligent way to produce maps quickly and accurately?\n",
    "\n",
    "#### Vision\n",
    "\n",
    "Produce a shapefile of the Amazon Rainforest river system using machine learning and computer techniques on ESA Sentinel-2 satellite imagery data [2](https://sentinel.esa.int/web/sentinel/home). The conservation group will use latitude and longitude from GPS to correlate their positions with the map data displayed on either paper or digital devices. \n",
    "\n",
    "\n",
    "#### Outcome\n",
    "\n",
    "The conservation groups use the Amazon Rainforest map to safely navigate. They have increased situational awareness of river length, shape, choke points and other navigationally significant geospatial intelligence derived from the accurate up-to-date map data.\n",
    "\n",
    "A conservationalist will be able to respond to HQs with location of logging/mining and of positions of wildlife from scientific surveys.\n",
    "\n",
    "#### Next Steps aka version 2\n",
    "\n",
    "The conservation groups have expressed an interest in a digital app (like google maps) of the Amazon Rainforest river map providing reference to the what3words grid reference system [3](https://what3words.com/). This is out of scope for this first phase. But something to consider for round 2.\n",
    "\n"
   ]
  },
  {
   "cell_type": "code",
   "execution_count": null,
   "metadata": {},
   "outputs": [],
   "source": []
  }
 ],
 "metadata": {
  "kernelspec": {
   "display_name": "Python 3",
   "language": "python",
   "name": "python3"
  },
  "language_info": {
   "codemirror_mode": {
    "name": "ipython",
    "version": 3
   },
   "file_extension": ".py",
   "mimetype": "text/x-python",
   "name": "python",
   "nbconvert_exporter": "python",
   "pygments_lexer": "ipython3",
   "version": "3.7.3"
  }
 },
 "nbformat": 4,
 "nbformat_minor": 2
}
